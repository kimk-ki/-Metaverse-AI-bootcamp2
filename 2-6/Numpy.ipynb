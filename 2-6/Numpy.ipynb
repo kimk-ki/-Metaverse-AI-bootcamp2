{
  "nbformat": 4,
  "nbformat_minor": 0,
  "metadata": {
    "colab": {
      "provenance": []
    },
    "kernelspec": {
      "name": "python3",
      "display_name": "Python 3"
    },
    "language_info": {
      "name": "python"
    }
  },
  "cells": [
    {
      "cell_type": "markdown",
      "source": [
        "# Numpy "
      ],
      "metadata": {
        "id": "mdDiMo2UC8k0"
      }
    },
    {
      "cell_type": "markdown",
      "source": [
        "## 1단계"
      ],
      "metadata": {
        "id": "imhd82r0DB8I"
      }
    },
    {
      "cell_type": "code",
      "source": [
        "# 1. 불러오기\n",
        "import numpy as np"
      ],
      "metadata": {
        "id": "96w21naCC_pR"
      },
      "execution_count": null,
      "outputs": []
    },
    {
      "cell_type": "code",
      "source": [
        "# 2. 배열 만들기 \n",
        "a = np.arange(15)\n",
        "a"
      ],
      "metadata": {
        "colab": {
          "base_uri": "https://localhost:8080/"
        },
        "id": "UZWS2HNnMzau",
        "outputId": "aa0c2127-e1f4-42a2-8a4f-f713dd97ae62"
      },
      "execution_count": null,
      "outputs": [
        {
          "output_type": "execute_result",
          "data": {
            "text/plain": [
              "array([ 0,  1,  2,  3,  4,  5,  6,  7,  8,  9, 10, 11, 12, 13, 14])"
            ]
          },
          "metadata": {},
          "execution_count": 3
        }
      ]
    },
    {
      "cell_type": "code",
      "source": [
        "a = np.arange(15)\n",
        "a"
      ],
      "metadata": {
        "colab": {
          "base_uri": "https://localhost:8080/"
        },
        "id": "WTSVAx60YxvV",
        "outputId": "2b3c8286-fb97-4c77-da15-6b64e0f1f7ff"
      },
      "execution_count": null,
      "outputs": [
        {
          "output_type": "execute_result",
          "data": {
            "text/plain": [
              "array([ 0,  1,  2,  3,  4,  5,  6,  7,  8,  9, 10, 11, 12, 13, 14])"
            ]
          },
          "metadata": {},
          "execution_count": 3
        }
      ]
    },
    {
      "cell_type": "code",
      "source": [
        "# 2. 배열 차원 변경\n",
        "b = a.reshape(3,5) #행,열\n",
        "b"
      ],
      "metadata": {
        "colab": {
          "base_uri": "https://localhost:8080/"
        },
        "id": "O-hEa4lhDDFk",
        "outputId": "5c9bff77-361d-47cb-bb51-667d7d10eb8b"
      },
      "execution_count": null,
      "outputs": [
        {
          "output_type": "execute_result",
          "data": {
            "text/plain": [
              "array([[ 0,  1,  2,  3,  4],\n",
              "       [ 5,  6,  7,  8,  9],\n",
              "       [10, 11, 12, 13, 14]])"
            ]
          },
          "metadata": {},
          "execution_count": 5
        }
      ]
    },
    {
      "cell_type": "code",
      "source": [
        "b = a.reshape(3,5)\n",
        "b"
      ],
      "metadata": {
        "colab": {
          "base_uri": "https://localhost:8080/"
        },
        "id": "sC4XrnD3ZUv0",
        "outputId": "35e01d71-b6b3-476e-8919-1140a809865f"
      },
      "execution_count": null,
      "outputs": [
        {
          "output_type": "execute_result",
          "data": {
            "text/plain": [
              "array([[ 0,  1,  2,  3,  4],\n",
              "       [ 5,  6,  7,  8,  9],\n",
              "       [10, 11, 12, 13, 14]])"
            ]
          },
          "metadata": {},
          "execution_count": 4
        }
      ]
    },
    {
      "cell_type": "code",
      "source": [
        "# 3. 배열 정보 확인하기 \n",
        "a.shape"
      ],
      "metadata": {
        "colab": {
          "base_uri": "https://localhost:8080/"
        },
        "id": "rqIpSMx5F58l",
        "outputId": "2cf5c9b4-4cac-4aa5-d014-d3341817d5a7"
      },
      "execution_count": null,
      "outputs": [
        {
          "output_type": "execute_result",
          "data": {
            "text/plain": [
              "(15,)"
            ]
          },
          "metadata": {},
          "execution_count": 5
        }
      ]
    },
    {
      "cell_type": "code",
      "source": [
        "a.shape"
      ],
      "metadata": {
        "id": "hHmdAuigZjxG"
      },
      "execution_count": null,
      "outputs": []
    },
    {
      "cell_type": "code",
      "source": [
        "b.shape"
      ],
      "metadata": {
        "colab": {
          "base_uri": "https://localhost:8080/"
        },
        "id": "6_Vo4YPpNe3f",
        "outputId": "493ca164-b748-45a5-dfd1-f7a831ea4d3c"
      },
      "execution_count": null,
      "outputs": [
        {
          "output_type": "execute_result",
          "data": {
            "text/plain": [
              "(3, 5)"
            ]
          },
          "metadata": {},
          "execution_count": 6
        }
      ]
    },
    {
      "cell_type": "code",
      "source": [
        "b.shape"
      ],
      "metadata": {
        "colab": {
          "base_uri": "https://localhost:8080/"
        },
        "id": "vyci1GgbZ-Sl",
        "outputId": "6a93cc51-a487-467e-9eef-4dd5831f6c1c"
      },
      "execution_count": null,
      "outputs": [
        {
          "output_type": "execute_result",
          "data": {
            "text/plain": [
              "(3, 5)"
            ]
          },
          "metadata": {},
          "execution_count": 6
        }
      ]
    },
    {
      "cell_type": "code",
      "source": [
        "### 연습 \n",
        "### 0~9까지 배열을 만들어 보세요. \n",
        "### 0~9까지 배열을 2행 5열로 차원을 변경해 보세요. \n",
        "### 0~9까지 숫자로 만든 2행 5열 정보를 확인해 보세요."
      ],
      "metadata": {
        "id": "Y9_BMEbjFNXV"
      },
      "execution_count": null,
      "outputs": []
    },
    {
      "cell_type": "code",
      "source": [
        "a = np.arange(10)\n",
        "a"
      ],
      "metadata": {
        "colab": {
          "base_uri": "https://localhost:8080/"
        },
        "id": "t4UD5oRhaDJO",
        "outputId": "cdb3c37c-2ef6-4065-e5ad-9e3931085ef3"
      },
      "execution_count": null,
      "outputs": [
        {
          "output_type": "execute_result",
          "data": {
            "text/plain": [
              "array([0, 1, 2, 3, 4, 5, 6, 7, 8, 9])"
            ]
          },
          "metadata": {},
          "execution_count": 8
        }
      ]
    },
    {
      "cell_type": "code",
      "source": [
        "b = a.reshape(2,5)\n",
        "b"
      ],
      "metadata": {
        "colab": {
          "base_uri": "https://localhost:8080/"
        },
        "id": "2SIAYYfbaZiy",
        "outputId": "ad16bb55-f8e0-43ad-c56e-97f2f8115f4b"
      },
      "execution_count": null,
      "outputs": [
        {
          "output_type": "execute_result",
          "data": {
            "text/plain": [
              "array([[0, 1, 2, 3, 4],\n",
              "       [5, 6, 7, 8, 9]])"
            ]
          },
          "metadata": {},
          "execution_count": 10
        }
      ]
    },
    {
      "cell_type": "markdown",
      "source": [
        "# 2단계"
      ],
      "metadata": {
        "id": "buJaAeiZGxkN"
      }
    },
    {
      "cell_type": "code",
      "source": [
        "# 1. 인덱싱\n",
        "\n",
        "# 배열 만들기\n",
        "a = np.arange(15)\n",
        "a"
      ],
      "metadata": {
        "colab": {
          "base_uri": "https://localhost:8080/"
        },
        "id": "LCSM7vadP0fm",
        "outputId": "85cc1e9b-dd4f-495a-e336-16b21ac97277"
      },
      "execution_count": null,
      "outputs": [
        {
          "output_type": "execute_result",
          "data": {
            "text/plain": [
              "array([ 0,  1,  2,  3,  4,  5,  6,  7,  8,  9, 10, 11, 12, 13, 14])"
            ]
          },
          "metadata": {},
          "execution_count": 12
        }
      ]
    },
    {
      "cell_type": "code",
      "source": [
        "# 두 번째 원소 인덱싱하기\n",
        "a[1]"
      ],
      "metadata": {
        "colab": {
          "base_uri": "https://localhost:8080/"
        },
        "id": "31mguQiXSBer",
        "outputId": "279b5182-e3d6-4c8e-9ed7-07e14ee8c758"
      },
      "execution_count": null,
      "outputs": [
        {
          "output_type": "execute_result",
          "data": {
            "text/plain": [
              "1"
            ]
          },
          "metadata": {},
          "execution_count": 35
        }
      ]
    },
    {
      "cell_type": "code",
      "source": [
        "# 네 번째 원소 인덱싱하기\n",
        "a[3]"
      ],
      "metadata": {
        "colab": {
          "base_uri": "https://localhost:8080/"
        },
        "id": "wob4BRyOTfsZ",
        "outputId": "fbe00283-be9d-4633-ea80-6e7b55748f9e"
      },
      "execution_count": null,
      "outputs": [
        {
          "output_type": "execute_result",
          "data": {
            "text/plain": [
              "3"
            ]
          },
          "metadata": {},
          "execution_count": 36
        }
      ]
    },
    {
      "cell_type": "code",
      "source": [
        "a[2]"
      ],
      "metadata": {
        "colab": {
          "base_uri": "https://localhost:8080/"
        },
        "id": "kPIb-MrWaum6",
        "outputId": "5b4f02ee-b715-444e-bac3-7cd17c037de3"
      },
      "execution_count": null,
      "outputs": [
        {
          "output_type": "execute_result",
          "data": {
            "text/plain": [
              "2"
            ]
          },
          "metadata": {},
          "execution_count": 13
        }
      ]
    },
    {
      "cell_type": "code",
      "source": [
        "# 2. 슬라이싱\n",
        "\n",
        "a[0:2] \n",
        "# 0이상 2 미만 "
      ],
      "metadata": {
        "colab": {
          "base_uri": "https://localhost:8080/"
        },
        "id": "ECUs3mmhP82s",
        "outputId": "c7761a97-b35f-484a-e93e-5c7a776f5784"
      },
      "execution_count": null,
      "outputs": [
        {
          "output_type": "execute_result",
          "data": {
            "text/plain": [
              "array([0, 1])"
            ]
          },
          "metadata": {},
          "execution_count": 47
        }
      ]
    },
    {
      "cell_type": "code",
      "source": [
        "a[0:2]"
      ],
      "metadata": {
        "colab": {
          "base_uri": "https://localhost:8080/"
        },
        "id": "_E2b5QiBbDb2",
        "outputId": "e0591f7c-b895-4ebf-9b34-aaf1e83ef133"
      },
      "execution_count": null,
      "outputs": [
        {
          "output_type": "execute_result",
          "data": {
            "text/plain": [
              "array([0, 1])"
            ]
          },
          "metadata": {},
          "execution_count": 14
        }
      ]
    },
    {
      "cell_type": "code",
      "source": [
        "a[5:]\n",
        "# 5 이상부터 끝까지"
      ],
      "metadata": {
        "colab": {
          "base_uri": "https://localhost:8080/"
        },
        "id": "ZI-ciQ13QLNn",
        "outputId": "2b67d128-d338-4248-a5f9-7112c587dfc0"
      },
      "execution_count": null,
      "outputs": [
        {
          "output_type": "execute_result",
          "data": {
            "text/plain": [
              "array([ 5,  6,  7,  8,  9, 10, 11, 12, 13, 14])"
            ]
          },
          "metadata": {},
          "execution_count": 43
        }
      ]
    },
    {
      "cell_type": "code",
      "source": [
        "a[5:]"
      ],
      "metadata": {
        "colab": {
          "base_uri": "https://localhost:8080/"
        },
        "id": "oBuBRep-bSHj",
        "outputId": "9f46247f-12bf-4fac-9d59-d6e1046c376f"
      },
      "execution_count": null,
      "outputs": [
        {
          "output_type": "execute_result",
          "data": {
            "text/plain": [
              "array([ 5,  6,  7,  8,  9, 10, 11, 12, 13, 14])"
            ]
          },
          "metadata": {},
          "execution_count": 15
        }
      ]
    },
    {
      "cell_type": "code",
      "source": [
        "a[:4]\n",
        "# 처음부터 4 미만"
      ],
      "metadata": {
        "colab": {
          "base_uri": "https://localhost:8080/"
        },
        "id": "MuTTEjgUQZ3r",
        "outputId": "0afbf6cd-1451-43d6-8e66-b53575533b19"
      },
      "execution_count": null,
      "outputs": [
        {
          "output_type": "execute_result",
          "data": {
            "text/plain": [
              "array([0, 1, 2, 3])"
            ]
          },
          "metadata": {},
          "execution_count": 41
        }
      ]
    },
    {
      "cell_type": "code",
      "source": [
        "a[:4]"
      ],
      "metadata": {
        "colab": {
          "base_uri": "https://localhost:8080/"
        },
        "id": "3_YtyzI0baWI",
        "outputId": "4aa18fc4-5ae7-414f-c74d-fabc54597ad3"
      },
      "execution_count": null,
      "outputs": [
        {
          "output_type": "execute_result",
          "data": {
            "text/plain": [
              "array([0, 1, 2, 3])"
            ]
          },
          "metadata": {},
          "execution_count": 16
        }
      ]
    },
    {
      "cell_type": "code",
      "source": [
        "### 연습\n",
        "### a의 배열의 3 이상 6 미만 슬라이싱 해보세요."
      ],
      "metadata": {
        "id": "aHNsrVw7QtcU"
      },
      "execution_count": null,
      "outputs": []
    },
    {
      "cell_type": "code",
      "source": [
        "a[3:6]"
      ],
      "metadata": {
        "colab": {
          "base_uri": "https://localhost:8080/"
        },
        "id": "OoMdywYdbmHM",
        "outputId": "bd56bfed-c878-404c-b488-be0f69ac9a75"
      },
      "execution_count": null,
      "outputs": [
        {
          "output_type": "execute_result",
          "data": {
            "text/plain": [
              "array([3, 4, 5])"
            ]
          },
          "metadata": {},
          "execution_count": 17
        }
      ]
    },
    {
      "cell_type": "markdown",
      "source": [
        "# 3단계"
      ],
      "metadata": {
        "id": "v0i-u3fXPvLs"
      }
    },
    {
      "cell_type": "code",
      "source": [
        "# 1. 사칙연산 \n",
        "\n",
        "## 1.1 배열 만들기\n",
        "a = np.array([\n",
        "[1,2,3],\n",
        "[4,5,6]\n",
        "], dtype = np.float64)\n",
        "\n",
        "b = np.array([\n",
        "[7,8,9],\n",
        "[10,11,12]\n",
        "], dtype = np.float64)"
      ],
      "metadata": {
        "id": "2H_8VYeoGyvx"
      },
      "execution_count": null,
      "outputs": []
    },
    {
      "cell_type": "code",
      "source": [
        "a"
      ],
      "metadata": {
        "colab": {
          "base_uri": "https://localhost:8080/"
        },
        "id": "g0oTTnbRAhmr",
        "outputId": "9a87fb63-d4e9-4a32-9b28-a5f825394ca7"
      },
      "execution_count": null,
      "outputs": [
        {
          "output_type": "execute_result",
          "data": {
            "text/plain": [
              "array([[1., 2., 3.],\n",
              "       [4., 5., 6.]])"
            ]
          },
          "metadata": {},
          "execution_count": 30
        }
      ]
    },
    {
      "cell_type": "code",
      "source": [
        "b"
      ],
      "metadata": {
        "colab": {
          "base_uri": "https://localhost:8080/"
        },
        "id": "AIRTq5NsAiJu",
        "outputId": "60260ef2-6c8f-4663-fc38-6886cc0f5e14"
      },
      "execution_count": null,
      "outputs": [
        {
          "output_type": "execute_result",
          "data": {
            "text/plain": [
              "array([[ 7.,  8.,  9.],\n",
              "       [10., 11., 12.]])"
            ]
          },
          "metadata": {},
          "execution_count": 31
        }
      ]
    },
    {
      "cell_type": "code",
      "source": [
        "## 1.2 사칙연산 하기\n",
        "print(a+b)"
      ],
      "metadata": {
        "colab": {
          "base_uri": "https://localhost:8080/"
        },
        "id": "GjtXeXUDAeRf",
        "outputId": "2623424b-c885-4237-b6a7-75edf566436b"
      },
      "execution_count": null,
      "outputs": [
        {
          "output_type": "stream",
          "name": "stdout",
          "text": [
            "[[ 8. 10. 12.]\n",
            " [14. 16. 18.]]\n"
          ]
        }
      ]
    },
    {
      "cell_type": "code",
      "source": [
        "print(a-b)"
      ],
      "metadata": {
        "colab": {
          "base_uri": "https://localhost:8080/"
        },
        "id": "1m5NnO7kJ1Mf",
        "outputId": "fdcbfd37-28e8-4ef8-cb7d-04a92aa3148a"
      },
      "execution_count": null,
      "outputs": [
        {
          "output_type": "stream",
          "name": "stdout",
          "text": [
            "[[-6. -6. -6.]\n",
            " [-6. -6. -6.]]\n"
          ]
        }
      ]
    },
    {
      "cell_type": "code",
      "source": [
        "print(a*b)"
      ],
      "metadata": {
        "colab": {
          "base_uri": "https://localhost:8080/"
        },
        "id": "bVQLCpKKIrg_",
        "outputId": "fc7e0c87-266e-4491-bbd9-c658f56e6b5a"
      },
      "execution_count": null,
      "outputs": [
        {
          "output_type": "stream",
          "name": "stdout",
          "text": [
            "[[ 7. 16. 27.]\n",
            " [40. 55. 72.]]\n"
          ]
        }
      ]
    },
    {
      "cell_type": "code",
      "source": [
        "print(a/b)"
      ],
      "metadata": {
        "colab": {
          "base_uri": "https://localhost:8080/"
        },
        "id": "EUNZmt34J3kG",
        "outputId": "d427814d-ae50-468c-85e5-c0dce923ddd0"
      },
      "execution_count": null,
      "outputs": [
        {
          "output_type": "stream",
          "name": "stdout",
          "text": [
            "[[0.14285714 0.25       0.33333333]\n",
            " [0.4        0.45454545 0.5       ]]\n"
          ]
        }
      ]
    },
    {
      "cell_type": "code",
      "source": [
        "### 연습\n",
        "### 아래의 배열로 사칙연산을 해보세요.\n",
        "\n",
        "a = np.array([\n",
        "[1000,1000,1000],\n",
        "[1000,1000,1000]\n",
        "], dtype = np.float64)\n",
        "\n",
        "b = np.array([\n",
        "[4,4,4],\n",
        "[4,4,4]\n",
        "], dtype = np.float64)\n"
      ],
      "metadata": {
        "id": "2-TVYa5rPnjk"
      },
      "execution_count": null,
      "outputs": []
    },
    {
      "cell_type": "code",
      "source": [
        "print(a+b)"
      ],
      "metadata": {
        "colab": {
          "base_uri": "https://localhost:8080/"
        },
        "id": "XrEYOqIqb_xu",
        "outputId": "ae9f9c5e-b704-4aba-e15a-3704e88fb592"
      },
      "execution_count": null,
      "outputs": [
        {
          "output_type": "stream",
          "name": "stdout",
          "text": [
            "[[1004. 1004. 1004.]\n",
            " [1004. 1004. 1004.]]\n"
          ]
        }
      ]
    },
    {
      "cell_type": "code",
      "source": [],
      "metadata": {
        "id": "PbXNZFomcOIZ"
      },
      "execution_count": null,
      "outputs": []
    }
  ]
}