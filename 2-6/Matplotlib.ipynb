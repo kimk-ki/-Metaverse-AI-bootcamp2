{
  "nbformat": 4,
  "nbformat_minor": 0,
  "metadata": {
    "colab": {
      "provenance": []
    },
    "kernelspec": {
      "name": "python3",
      "display_name": "Python 3"
    },
    "language_info": {
      "name": "python"
    }
  },
  "cells": [
    {
      "cell_type": "markdown",
      "source": [
        "# Matplotlib"
      ],
      "metadata": {
        "id": "IgD7mGnNvpS2"
      }
    },
    {
      "cell_type": "markdown",
      "source": [
        "## 1단계"
      ],
      "metadata": {
        "id": "Cmr3lByfvwHN"
      }
    },
    {
      "cell_type": "code",
      "execution_count": null,
      "metadata": {
        "id": "W7Ypo_P5uHWd"
      },
      "outputs": [],
      "source": [
        "# 1. 불러오기\n",
        "import numpy as np\n",
        "import pandas as pd\n",
        "import matplotlib.pyplot as plt"
      ]
    },
    {
      "cell_type": "code",
      "source": [
        "## 데이터셋\n",
        "names = ['피카츄','라이츄','파이리','꼬부기','버터풀','야도란','피죤투']\n",
        "ages = [2,3,2,5,2,2,3]\n",
        "\n",
        "포켓몬스터 = list(zip(names,ages))\n",
        "df = pd.DataFrame(data = 포켓몬스터, columns=['Names','Ages'])\n",
        "\n",
        "## 한글 깨지지 않도록\n",
        "!sudo apt-get install -y fonts-nanum\n",
        "!sudo fc-cache -fv\n",
        "!rm ~/.cache/matplotlib -rf\n"
      ],
      "metadata": {
        "colab": {
          "base_uri": "https://localhost:8080/"
        },
        "id": "lrjigmHmvtMx",
        "outputId": "002e683a-c207-4c3d-e7a8-bb6a0d81ac24"
      },
      "execution_count": null,
      "outputs": [
        {
          "output_type": "stream",
          "name": "stdout",
          "text": [
            "Reading package lists... Done\n",
            "Building dependency tree       \n",
            "Reading state information... Done\n",
            "fonts-nanum is already the newest version (20170925-1).\n",
            "The following package was automatically installed and is no longer required:\n",
            "  libnvidia-common-460\n",
            "Use 'sudo apt autoremove' to remove it.\n",
            "0 upgraded, 0 newly installed, 0 to remove and 49 not upgraded.\n",
            "/usr/share/fonts: caching, new cache contents: 0 fonts, 1 dirs\n",
            "/usr/share/fonts/truetype: caching, new cache contents: 0 fonts, 3 dirs\n",
            "/usr/share/fonts/truetype/humor-sans: caching, new cache contents: 1 fonts, 0 dirs\n",
            "/usr/share/fonts/truetype/liberation: caching, new cache contents: 16 fonts, 0 dirs\n",
            "/usr/share/fonts/truetype/nanum: caching, new cache contents: 10 fonts, 0 dirs\n",
            "/usr/local/share/fonts: caching, new cache contents: 0 fonts, 0 dirs\n",
            "/root/.local/share/fonts: skipping, no such directory\n",
            "/root/.fonts: skipping, no such directory\n",
            "/var/cache/fontconfig: cleaning cache directory\n",
            "/root/.cache/fontconfig: not cleaning non-existent cache directory\n",
            "/root/.fontconfig: not cleaning non-existent cache directory\n",
            "fc-cache: succeeded\n"
          ]
        }
      ]
    },
    {
      "cell_type": "code",
      "source": [
        "## 한글 깨지지 않도록\n",
        "import matplotlib.pyplot as plt\n",
        "plt.rc('font', family='NanumBarunGothic') "
      ],
      "metadata": {
        "id": "Wrj_J20AZ7Q7"
      },
      "execution_count": null,
      "outputs": []
    },
    {
      "cell_type": "code",
      "source": [
        "# 2. 막대그래프 그리기\n",
        "\n",
        "x = df['Names']\n",
        "y = df['Ages']\n",
        "\n",
        "plt.bar(x,y) # 막대그래프 객체 생성\n",
        "plt.xlabel('Names') # x축 제목\n",
        "plt.ylabel('Ages')  # y축 제목\n",
        "plt.title('Bar plot') # 그래프 제목\n",
        "plt.show() # 그래프 출력\n"
      ],
      "metadata": {
        "colab": {
          "base_uri": "https://localhost:8080/",
          "height": 294
        },
        "id": "mv2eJ0c3wFRU",
        "outputId": "c3a2c30f-d063-4f28-a299-f5e7e3c0826a"
      },
      "execution_count": null,
      "outputs": [
        {
          "output_type": "display_data",
          "data": {
            "text/plain": [
              "<Figure size 432x288 with 1 Axes>"
            ],
            "image/png": "[encoded data removed]"
          },
          "metadata": {
            "needs_background": "light"
          }
        }
      ]
    },
    {
      "cell_type": "code",
      "source": [
        "# 3. 산점도 그래프 그리기\n",
        "\n",
        "## 랜덤 추출 시드 고정\n",
        "np.random.seed(20222702)\n",
        "\n",
        "## 산점도 데이터 생성\n",
        "x = np.arange(0.0, 100.0, 5.0)\n",
        "y = (x * 1.5) + np.random.rand(20)*50\n",
        "\n",
        "plt.scatter(x,y,c=\"r\",alpha=0.5, label =\"scatter point\") # color = red, alpha = 투명도, label = 점이 무엇을 의미하는지 \n",
        "\n",
        "plt.xlabel(\"X\") # 가로축 라벨 추가 \n",
        "plt.ylabel(\"Y\") # 세로축 라벨 추가 \n",
        "plt.legend(loc='upper left') # 범례 추가 \n",
        "plt.title('Scatter plot') # 그래프 제목 추가\n",
        "plt.show() # 그래프 출력 \n"
      ],
      "metadata": {
        "colab": {
          "base_uri": "https://localhost:8080/",
          "height": 294
        },
        "id": "hPc-gX7uxPrQ",
        "outputId": "19466dc7-4159-49d3-ed17-861fbb0e1da3"
      },
      "execution_count": null,
      "outputs": [
        {
          "output_type": "display_data",
          "data": {
            "text/plain": [
              "<Figure size 432x288 with 1 Axes>"
            ],
            "image/png": "[encoded data removed]"
          },
          "metadata": {
            "needs_background": "light"
          }
        }
      ]
    }
  ]
}